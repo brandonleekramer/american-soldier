{
 "cells": [
  {
   "cell_type": "markdown",
   "metadata": {},
   "source": [
    "#### Scraping Tweets to Study the Military & Race Relations During the 2020 #BlackLivesMatter Protests \n",
    "\n",
    "Brandon Kramer, Chase Dawson, Ed Gitre, Gizem Korkmaz "
   ]
  },
  {
   "cell_type": "code",
   "execution_count": 20,
   "metadata": {},
   "outputs": [],
   "source": [
    "# load modules \n",
    "import requests\n",
    "import os\n",
    "import json\n",
    "import pandas as pd\n",
    "from dotenv import load_dotenv\n",
    "# to install dotenv run \"conda install -c conda-forge python-dotenv\" if using a conda env or \"pip install python-dotenv\" if in a regular python env\n",
    "# link to python-dotenv documentation: https://github.com/theskumar/python-dotenv/\n",
    "\n",
    "# load variables stored in .env\n",
    "load_dotenv()\n",
    "\n",
    "# set functions to scrape our query for set time period \n",
    "def create_headers(bearer_token):\n",
    "    headers = {\"Authorization\": \"Bearer {}\".format(bearer_token)}\n",
    "    return headers\n",
    "\n",
    "def connect_to_endpoint(url, headers, params):\n",
    "    response = requests.request(\"GET\", search_url, headers=headers, params=params)\n",
    "    print(response.status_code)\n",
    "    if response.status_code != 200:\n",
    "        raise Exception(response.status_code, response.text)\n",
    "    return response.json()\n",
    "\n",
    "# query API and return json given a url, query parameters, and API access token (or bearer token)\n",
    "def make_api_request(url, query_params, bearer_token):\n",
    "    headers = create_headers(bearer_token)\n",
    "    json_response = connect_to_endpoint(url, headers, query_params)\n",
    "    return json_response\n",
    "\n",
    "def make_dataframe(json, query_params, columns=['id', 'text']):\n",
    "    df = pd.DataFrame(json['data'], columns=columns)\n",
    "    df['query_params'] = [query_params] * len(df)\n",
    "    return df"
   ]
  },
  {
   "cell_type": "code",
   "execution_count": 13,
   "metadata": {},
   "outputs": [],
   "source": [
    "# load the bearer_token and set twitter's archive as the url (academic research only) \n",
    "bearer_token = os.environ.get(\"BEARER_TOKEN\")\n",
    "search_url = \"https://api.twitter.com/2/tweets/search/all\"\n",
    "\n",
    "# Optional params: start_time,end_time,since_id,until_id,max_results,next_token,\n",
    "# expansions,tweet.fields,media.fields,poll.fields,place.fields,user.fields\n",
    "#query_params = {'query': '(from:twitterdev -is:retweet) OR #twitterdev','tweet.fields': 'author_id'}\n",
    "query_params = {'query': '#blacklivesmatter #fortbragg -is:retweet', \n",
    "                'start_time':'2020-05-01T01:00:00.01Z', 'end_time':'2020-09-01T01:00:00.01Z',\n",
    "                'max_results': '100'\n",
    "               }"
   ]
  },
  {
   "cell_type": "code",
   "execution_count": 21,
   "metadata": {},
   "outputs": [
    {
     "name": "stdout",
     "output_type": "stream",
     "text": [
      "200\n"
     ]
    },
    {
     "data": {
      "text/html": [
       "<div>\n",
       "<style scoped>\n",
       "    .dataframe tbody tr th:only-of-type {\n",
       "        vertical-align: middle;\n",
       "    }\n",
       "\n",
       "    .dataframe tbody tr th {\n",
       "        vertical-align: top;\n",
       "    }\n",
       "\n",
       "    .dataframe thead th {\n",
       "        text-align: right;\n",
       "    }\n",
       "</style>\n",
       "<table border=\"1\" class=\"dataframe\">\n",
       "  <thead>\n",
       "    <tr style=\"text-align: right;\">\n",
       "      <th></th>\n",
       "      <th>id</th>\n",
       "      <th>text</th>\n",
       "      <th>query_params</th>\n",
       "    </tr>\n",
       "  </thead>\n",
       "  <tbody>\n",
       "    <tr>\n",
       "      <th>0</th>\n",
       "      <td>1286419707805851649</td>\n",
       "      <td>#MohacsiSteven works for the 849th Quarter Mas...</td>\n",
       "      <td>{'query': '#blacklivesmatter #fortbragg -is:re...</td>\n",
       "    </tr>\n",
       "    <tr>\n",
       "      <th>1</th>\n",
       "      <td>1285047328999641089</td>\n",
       "      <td>#CHINA #CCPVirus #COVIDー19 \\n#ChrisWallace #Fa...</td>\n",
       "      <td>{'query': '#blacklivesmatter #fortbragg -is:re...</td>\n",
       "    </tr>\n",
       "    <tr>\n",
       "      <th>2</th>\n",
       "      <td>1284958539014971394</td>\n",
       "      <td>#CHINA #CCPVirus #COVIDー19 \\n#ChrisWallace #Fa...</td>\n",
       "      <td>{'query': '#blacklivesmatter #fortbragg -is:re...</td>\n",
       "    </tr>\n",
       "    <tr>\n",
       "      <th>3</th>\n",
       "      <td>1284958363957239809</td>\n",
       "      <td>#CHINA #CCPVirus #COVIDー19 \\n#ChrisWallace #Fa...</td>\n",
       "      <td>{'query': '#blacklivesmatter #fortbragg -is:re...</td>\n",
       "    </tr>\n",
       "    <tr>\n",
       "      <th>4</th>\n",
       "      <td>1284957980191002625</td>\n",
       "      <td>#CHINA #CCPVirus #COVIDー19 \\n#ChrisWallace #Fa...</td>\n",
       "      <td>{'query': '#blacklivesmatter #fortbragg -is:re...</td>\n",
       "    </tr>\n",
       "  </tbody>\n",
       "</table>\n",
       "</div>"
      ],
      "text/plain": [
       "                    id                                               text  \\\n",
       "0  1286419707805851649  #MohacsiSteven works for the 849th Quarter Mas...   \n",
       "1  1285047328999641089  #CHINA #CCPVirus #COVIDー19 \\n#ChrisWallace #Fa...   \n",
       "2  1284958539014971394  #CHINA #CCPVirus #COVIDー19 \\n#ChrisWallace #Fa...   \n",
       "3  1284958363957239809  #CHINA #CCPVirus #COVIDー19 \\n#ChrisWallace #Fa...   \n",
       "4  1284957980191002625  #CHINA #CCPVirus #COVIDー19 \\n#ChrisWallace #Fa...   \n",
       "\n",
       "                                        query_params  \n",
       "0  {'query': '#blacklivesmatter #fortbragg -is:re...  \n",
       "1  {'query': '#blacklivesmatter #fortbragg -is:re...  \n",
       "2  {'query': '#blacklivesmatter #fortbragg -is:re...  \n",
       "3  {'query': '#blacklivesmatter #fortbragg -is:re...  \n",
       "4  {'query': '#blacklivesmatter #fortbragg -is:re...  "
      ]
     },
     "execution_count": 21,
     "metadata": {},
     "output_type": "execute_result"
    }
   ],
   "source": [
    "json = make_api_request(search_url, query_params, bearer_token)\n",
    "df = make_dataframe(json, query_params)\n",
    "df.head()"
   ]
  },
  {
   "cell_type": "code",
   "execution_count": 22,
   "metadata": {},
   "outputs": [],
   "source": [
    "# to save data run either:\n",
    "# df.to_pickle(filepath + '.pkl') to save as a pickle or \n",
    "# df.to_csv(filepath + '.csv') to save as a csv\n",
    "# where filepath is a string representing the location where you want to save the file ex: '../data/twitter_scrape1'\n",
    "# and df is a pandas DataFrame object\n",
    "\n",
    "# text data is sometimes weird with csvs so while we are working in python saving as a pickle (.pkl) might be better"
   ]
  },
  {
   "cell_type": "raw",
   "metadata": {},
   "source": [
    "#### References \n",
    "\n",
    "[Twitter Sample Code (All)](https://github.com/twitterdev/Twitter-API-v2-sample-code)\n",
    "\n",
    "[Twitter Sample Code (Full Archive)](https://github.com/twitterdev/Twitter-API-v2-sample-code/blob/master/Full-Archive-Search/full-archive-search.py)\n",
    "\n",
    "[Twitter Add Users to Organization Account](https://developer.twitter.com/ja/docs/basics/developer-portal/guides/team)\n",
    "\n",
    "[Twitter Building Queries](https://developer.twitter.com/en/docs/twitter-api/tweets/search/integrate/build-a-query)\n",
    "\n",
    "[Twitter Query Paramers](https://developer.twitter.com/en/docs/twitter-api/tweets/search/api-reference/get-tweets-search-all)\n",
    "\n",
    "[Handling Passwords and Secret Keys using Environment Variables](https://dev.to/biplov/handling-passwords-and-secret-keys-using-environment-variables-2ei0)"
   ]
  }
 ],
 "metadata": {
  "kernelspec": {
   "display_name": "amsoldier",
   "language": "python",
   "name": "amsoldier"
  },
  "language_info": {
   "codemirror_mode": {
    "name": "ipython",
    "version": 3
   },
   "file_extension": ".py",
   "mimetype": "text/x-python",
   "name": "python",
   "nbconvert_exporter": "python",
   "pygments_lexer": "ipython3",
   "version": "3.8.5"
  }
 },
 "nbformat": 4,
 "nbformat_minor": 4
}
